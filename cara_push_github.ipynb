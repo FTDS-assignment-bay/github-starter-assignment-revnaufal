{
 "cells": [
  {
   "cell_type": "markdown",
   "metadata": {},
   "source": [
    "# Cara Clone dan Push ke Github dari Local\n",
    "\n",
    "## 1. Clone Repository\n",
    "\n",
    "berikut cara clone dari SSH:\n",
    "1. buka repository-nya\n",
    "2. di bagian `<> Code` warna hijau, copy URL dari tab SSH\n",
    "3. buka terminal di directory local dimana kalian akan clone repo\n",
    "4. di terminal tulis `git clone <url yang dicopy>`\n",
    "5. akan terbuat folder hasil clone di directory-nya\n",
    "Setelahnya ada hasil clone, kita bekerja di folder repository tersebut.\n",
    "\n",
    "## 2. Add and Commit Files\n",
    "\n",
    "Setelah ada perubahan file di foleder repo yang ingin kita track perubahannya maka harus kita lakukan add and commit. caranya:\n",
    "1. di terminal (pastikan directorynya sudah repository) cek status files dengan `git status`\n",
    "2. jika ada perubahan dari file apapun akan di indikasikan dengan warna merah\n",
    "3. untuk track perubahan lakukan `git add <nama file>` atau jika banyak bisa `git add .` untuk track semua perubahan semua pada file sekaligus\n",
    "4. kalau mau lihat status setelah di add harunya warnanya hijau.\n",
    "5. gunakan `git commit -m \"pesan commit\"` untuk menandakan batch perubahan\n",
    "\n",
    "## 3. Push and Pull to Github\n",
    "1. setelah ada commit yang mau dimasukan ke github bisa lakukan `git push`\n",
    "2. kalau kita menggunakan komputer / pc berbeda dan ada clone di device masing-masing, sebelum mengerjakan apa-apa lakukan `git pull` "
   ]
  }
 ],
 "metadata": {
  "language_info": {
   "name": "python"
  }
 },
 "nbformat": 4,
 "nbformat_minor": 2
}
